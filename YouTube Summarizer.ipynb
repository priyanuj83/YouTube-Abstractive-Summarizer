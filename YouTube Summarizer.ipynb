{
 "cells": [
  {
   "cell_type": "code",
   "execution_count": 3,
   "id": "14bd7c33-28b7-4477-a469-26384f23328d",
   "metadata": {},
   "outputs": [
    {
     "name": "stdout",
     "output_type": "stream",
     "text": [
      "Collecting streamlit==1.38.0\n",
      "  Downloading streamlit-1.38.0-py2.py3-none-any.whl.metadata (8.5 kB)\n",
      "Collecting youtube-transcript-api\n",
      "  Downloading youtube_transcript_api-1.2.2-py3-none-any.whl.metadata (24 kB)\n",
      "Collecting pytube\n",
      "  Downloading pytube-15.0.0-py3-none-any.whl.metadata (5.0 kB)\n",
      "Collecting gTTS\n",
      "  Downloading gTTS-2.5.4-py3-none-any.whl.metadata (4.1 kB)\n",
      "Collecting transformers\n",
      "  Downloading transformers-4.55.4-py3-none-any.whl.metadata (41 kB)\n",
      "Collecting accelerate\n",
      "  Downloading accelerate-1.10.1-py3-none-any.whl.metadata (19 kB)\n",
      "Collecting sentencepiece\n",
      "  Downloading sentencepiece-0.2.1-cp312-cp312-win_amd64.whl.metadata (10 kB)\n",
      "Requirement already satisfied: torch in c:\\users\\priyanuj\\anaconda3\\lib\\site-packages (2.5.1)\n",
      "Requirement already satisfied: altair<6,>=4.0 in c:\\users\\priyanuj\\anaconda3\\lib\\site-packages (from streamlit==1.38.0) (5.0.1)\n",
      "Requirement already satisfied: blinker<2,>=1.0.0 in c:\\users\\priyanuj\\anaconda3\\lib\\site-packages (from streamlit==1.38.0) (1.6.2)\n",
      "Requirement already satisfied: cachetools<6,>=4.0 in c:\\users\\priyanuj\\anaconda3\\lib\\site-packages (from streamlit==1.38.0) (5.3.3)\n",
      "Requirement already satisfied: click<9,>=7.0 in c:\\users\\priyanuj\\anaconda3\\lib\\site-packages (from streamlit==1.38.0) (8.1.7)\n",
      "Requirement already satisfied: numpy<3,>=1.20 in c:\\users\\priyanuj\\anaconda3\\lib\\site-packages (from streamlit==1.38.0) (1.26.4)\n",
      "Requirement already satisfied: packaging<25,>=20 in c:\\users\\priyanuj\\anaconda3\\lib\\site-packages (from streamlit==1.38.0) (24.1)\n",
      "Requirement already satisfied: pandas<3,>=1.3.0 in c:\\users\\priyanuj\\anaconda3\\lib\\site-packages (from streamlit==1.38.0) (2.2.2)\n",
      "Requirement already satisfied: pillow<11,>=7.1.0 in c:\\users\\priyanuj\\anaconda3\\lib\\site-packages (from streamlit==1.38.0) (10.4.0)\n",
      "Requirement already satisfied: protobuf<6,>=3.20 in c:\\users\\priyanuj\\anaconda3\\lib\\site-packages (from streamlit==1.38.0) (5.29.4)\n",
      "Requirement already satisfied: pyarrow>=7.0 in c:\\users\\priyanuj\\anaconda3\\lib\\site-packages (from streamlit==1.38.0) (16.1.0)\n",
      "Requirement already satisfied: requests<3,>=2.27 in c:\\users\\priyanuj\\anaconda3\\lib\\site-packages (from streamlit==1.38.0) (2.32.3)\n",
      "Requirement already satisfied: rich<14,>=10.14.0 in c:\\users\\priyanuj\\anaconda3\\lib\\site-packages (from streamlit==1.38.0) (13.7.1)\n",
      "Requirement already satisfied: tenacity<9,>=8.1.0 in c:\\users\\priyanuj\\anaconda3\\lib\\site-packages (from streamlit==1.38.0) (8.2.3)\n",
      "Requirement already satisfied: toml<2,>=0.10.1 in c:\\users\\priyanuj\\anaconda3\\lib\\site-packages (from streamlit==1.38.0) (0.10.2)\n",
      "Requirement already satisfied: typing-extensions<5,>=4.3.0 in c:\\users\\priyanuj\\anaconda3\\lib\\site-packages (from streamlit==1.38.0) (4.13.2)\n",
      "Requirement already satisfied: gitpython!=3.1.19,<4,>=3.0.7 in c:\\users\\priyanuj\\anaconda3\\lib\\site-packages (from streamlit==1.38.0) (3.1.43)\n",
      "Requirement already satisfied: pydeck<1,>=0.8.0b4 in c:\\users\\priyanuj\\anaconda3\\lib\\site-packages (from streamlit==1.38.0) (0.8.0)\n",
      "Requirement already satisfied: tornado<7,>=6.0.3 in c:\\users\\priyanuj\\anaconda3\\lib\\site-packages (from streamlit==1.38.0) (6.4.1)\n",
      "Requirement already satisfied: watchdog<5,>=2.1.5 in c:\\users\\priyanuj\\anaconda3\\lib\\site-packages (from streamlit==1.38.0) (4.0.1)\n",
      "Requirement already satisfied: defusedxml<0.8.0,>=0.7.1 in c:\\users\\priyanuj\\anaconda3\\lib\\site-packages (from youtube-transcript-api) (0.7.1)\n",
      "Requirement already satisfied: filelock in c:\\users\\priyanuj\\anaconda3\\lib\\site-packages (from transformers) (3.13.1)\n",
      "Collecting huggingface-hub<1.0,>=0.34.0 (from transformers)\n",
      "  Downloading huggingface_hub-0.34.4-py3-none-any.whl.metadata (14 kB)\n",
      "Requirement already satisfied: pyyaml>=5.1 in c:\\users\\priyanuj\\anaconda3\\lib\\site-packages (from transformers) (6.0.1)\n",
      "Requirement already satisfied: regex!=2019.12.17 in c:\\users\\priyanuj\\anaconda3\\lib\\site-packages (from transformers) (2024.9.11)\n",
      "Collecting tokenizers<0.22,>=0.21 (from transformers)\n",
      "  Downloading tokenizers-0.21.4-cp39-abi3-win_amd64.whl.metadata (6.9 kB)\n",
      "Collecting safetensors>=0.4.3 (from transformers)\n",
      "  Downloading safetensors-0.6.2-cp38-abi3-win_amd64.whl.metadata (4.1 kB)\n",
      "Requirement already satisfied: tqdm>=4.27 in c:\\users\\priyanuj\\anaconda3\\lib\\site-packages (from transformers) (4.66.5)\n",
      "Requirement already satisfied: psutil in c:\\users\\priyanuj\\anaconda3\\lib\\site-packages (from accelerate) (7.0.0)\n",
      "Requirement already satisfied: setuptools in c:\\users\\priyanuj\\anaconda3\\lib\\site-packages (from torch) (75.1.0)\n",
      "Requirement already satisfied: sympy==1.13.1 in c:\\users\\priyanuj\\anaconda3\\lib\\site-packages (from torch) (1.13.1)\n",
      "Requirement already satisfied: networkx in c:\\users\\priyanuj\\anaconda3\\lib\\site-packages (from torch) (3.3)\n",
      "Requirement already satisfied: jinja2 in c:\\users\\priyanuj\\anaconda3\\lib\\site-packages (from torch) (3.1.4)\n",
      "Requirement already satisfied: fsspec in c:\\users\\priyanuj\\anaconda3\\lib\\site-packages (from torch) (2024.6.1)\n",
      "Requirement already satisfied: mpmath<1.4,>=1.1.0 in c:\\users\\priyanuj\\anaconda3\\lib\\site-packages (from sympy==1.13.1->torch) (1.3.0)\n",
      "Requirement already satisfied: jsonschema>=3.0 in c:\\users\\priyanuj\\anaconda3\\lib\\site-packages (from altair<6,>=4.0->streamlit==1.38.0) (4.23.0)\n",
      "Requirement already satisfied: toolz in c:\\users\\priyanuj\\anaconda3\\lib\\site-packages (from altair<6,>=4.0->streamlit==1.38.0) (0.12.0)\n",
      "Requirement already satisfied: colorama in c:\\users\\priyanuj\\anaconda3\\lib\\site-packages (from click<9,>=7.0->streamlit==1.38.0) (0.4.6)\n",
      "Requirement already satisfied: gitdb<5,>=4.0.1 in c:\\users\\priyanuj\\anaconda3\\lib\\site-packages (from gitpython!=3.1.19,<4,>=3.0.7->streamlit==1.38.0) (4.0.7)\n",
      "Requirement already satisfied: python-dateutil>=2.8.2 in c:\\users\\priyanuj\\anaconda3\\lib\\site-packages (from pandas<3,>=1.3.0->streamlit==1.38.0) (2.9.0.post0)\n",
      "Requirement already satisfied: pytz>=2020.1 in c:\\users\\priyanuj\\anaconda3\\lib\\site-packages (from pandas<3,>=1.3.0->streamlit==1.38.0) (2024.1)\n",
      "Requirement already satisfied: tzdata>=2022.7 in c:\\users\\priyanuj\\anaconda3\\lib\\site-packages (from pandas<3,>=1.3.0->streamlit==1.38.0) (2023.3)\n",
      "Requirement already satisfied: MarkupSafe>=2.0 in c:\\users\\priyanuj\\anaconda3\\lib\\site-packages (from jinja2->torch) (2.1.3)\n",
      "Requirement already satisfied: charset-normalizer<4,>=2 in c:\\users\\priyanuj\\anaconda3\\lib\\site-packages (from requests<3,>=2.27->streamlit==1.38.0) (3.3.2)\n",
      "Requirement already satisfied: idna<4,>=2.5 in c:\\users\\priyanuj\\anaconda3\\lib\\site-packages (from requests<3,>=2.27->streamlit==1.38.0) (3.7)\n",
      "Requirement already satisfied: urllib3<3,>=1.21.1 in c:\\users\\priyanuj\\anaconda3\\lib\\site-packages (from requests<3,>=2.27->streamlit==1.38.0) (2.2.3)\n",
      "Requirement already satisfied: certifi>=2017.4.17 in c:\\users\\priyanuj\\anaconda3\\lib\\site-packages (from requests<3,>=2.27->streamlit==1.38.0) (2025.1.31)\n",
      "Requirement already satisfied: markdown-it-py>=2.2.0 in c:\\users\\priyanuj\\anaconda3\\lib\\site-packages (from rich<14,>=10.14.0->streamlit==1.38.0) (2.2.0)\n",
      "Requirement already satisfied: pygments<3.0.0,>=2.13.0 in c:\\users\\priyanuj\\anaconda3\\lib\\site-packages (from rich<14,>=10.14.0->streamlit==1.38.0) (2.15.1)\n",
      "Requirement already satisfied: smmap<5,>=3.0.1 in c:\\users\\priyanuj\\anaconda3\\lib\\site-packages (from gitdb<5,>=4.0.1->gitpython!=3.1.19,<4,>=3.0.7->streamlit==1.38.0) (4.0.0)\n",
      "Requirement already satisfied: attrs>=22.2.0 in c:\\users\\priyanuj\\anaconda3\\lib\\site-packages (from jsonschema>=3.0->altair<6,>=4.0->streamlit==1.38.0) (23.1.0)\n",
      "Requirement already satisfied: jsonschema-specifications>=2023.03.6 in c:\\users\\priyanuj\\anaconda3\\lib\\site-packages (from jsonschema>=3.0->altair<6,>=4.0->streamlit==1.38.0) (2023.7.1)\n",
      "Requirement already satisfied: referencing>=0.28.4 in c:\\users\\priyanuj\\anaconda3\\lib\\site-packages (from jsonschema>=3.0->altair<6,>=4.0->streamlit==1.38.0) (0.30.2)\n",
      "Requirement already satisfied: rpds-py>=0.7.1 in c:\\users\\priyanuj\\anaconda3\\lib\\site-packages (from jsonschema>=3.0->altair<6,>=4.0->streamlit==1.38.0) (0.10.6)\n",
      "Requirement already satisfied: mdurl~=0.1 in c:\\users\\priyanuj\\anaconda3\\lib\\site-packages (from markdown-it-py>=2.2.0->rich<14,>=10.14.0->streamlit==1.38.0) (0.1.0)\n",
      "Requirement already satisfied: six>=1.5 in c:\\users\\priyanuj\\anaconda3\\lib\\site-packages (from python-dateutil>=2.8.2->pandas<3,>=1.3.0->streamlit==1.38.0) (1.16.0)\n",
      "Downloading streamlit-1.38.0-py2.py3-none-any.whl (8.7 MB)\n",
      "   ---------------------------------------- 0.0/8.7 MB ? eta -:--:--\n",
      "   ------------------------- -------------- 5.5/8.7 MB 37.4 MB/s eta 0:00:01\n",
      "   ---------------------------------------- 8.7/8.7 MB 32.0 MB/s eta 0:00:00\n",
      "Downloading youtube_transcript_api-1.2.2-py3-none-any.whl (485 kB)\n",
      "Downloading pytube-15.0.0-py3-none-any.whl (57 kB)\n",
      "Downloading gTTS-2.5.4-py3-none-any.whl (29 kB)\n",
      "Downloading transformers-4.55.4-py3-none-any.whl (11.3 MB)\n",
      "   ---------------------------------------- 0.0/11.3 MB ? eta -:--:--\n",
      "   --------------------------- ------------ 7.9/11.3 MB 37.4 MB/s eta 0:00:01\n",
      "   ---------------------------------------- 11.3/11.3 MB 30.7 MB/s eta 0:00:00\n",
      "Downloading accelerate-1.10.1-py3-none-any.whl (374 kB)\n",
      "Downloading sentencepiece-0.2.1-cp312-cp312-win_amd64.whl (1.1 MB)\n",
      "   ---------------------------------------- 0.0/1.1 MB ? eta -:--:--\n",
      "   ---------------------------------------- 1.1/1.1 MB 25.6 MB/s eta 0:00:00\n",
      "Downloading huggingface_hub-0.34.4-py3-none-any.whl (561 kB)\n",
      "   ---------------------------------------- 0.0/561.5 kB ? eta -:--:--\n",
      "   --------------------------------------- 561.5/561.5 kB 18.7 MB/s eta 0:00:00\n",
      "Downloading safetensors-0.6.2-cp38-abi3-win_amd64.whl (320 kB)\n",
      "Downloading tokenizers-0.21.4-cp39-abi3-win_amd64.whl (2.5 MB)\n",
      "   ---------------------------------------- 0.0/2.5 MB ? eta -:--:--\n",
      "   ---------------------------------------- 2.5/2.5 MB 36.2 MB/s eta 0:00:00\n",
      "Installing collected packages: sentencepiece, safetensors, pytube, youtube-transcript-api, huggingface-hub, gTTS, tokenizers, accelerate, transformers, streamlit\n",
      "  Attempting uninstall: streamlit\n",
      "    Found existing installation: streamlit 1.37.1\n",
      "    Uninstalling streamlit-1.37.1:\n",
      "      Successfully uninstalled streamlit-1.37.1\n",
      "Successfully installed accelerate-1.10.1 gTTS-2.5.4 huggingface-hub-0.34.4 pytube-15.0.0 safetensors-0.6.2 sentencepiece-0.2.1 streamlit-1.38.0 tokenizers-0.21.4 transformers-4.55.4 youtube-transcript-api-1.2.2\n"
     ]
    }
   ],
   "source": [
    "# Core\n",
    "!pip install streamlit==1.38.0 youtube-transcript-api pytube gTTS transformers accelerate sentencepiece torch"
   ]
  },
  {
   "cell_type": "code",
   "execution_count": 1,
   "id": "f5e2b140-c659-457c-b085-df6d1590ec5e",
   "metadata": {},
   "outputs": [
    {
     "name": "stderr",
     "output_type": "stream",
     "text": [
      "Device set to use cpu\n"
     ]
    },
    {
     "name": "stdout",
     "output_type": "stream",
     "text": [
      "Video ID: rNxC16mlO60\n",
      "Transcript sample: Transcriber: isabella hilário\n",
      "Reviewer: Emma Gon You're about to hold a plank. Just 60 seconds. You know it’s coming. That tension in your core. The burn in your arms. The mental countdown ticking away. You’re already thinking, Now imagine you push through that feeling. You hold on.  Maybe your body starts shaking. Your mind is screaming for you to stop. You tell yourself just one more second,  and you make it to 60. You’re feeling pretty proud of yourself. (Cheers and applause) But then you don\n"
     ]
    },
    {
     "name": "stderr",
     "output_type": "stream",
     "text": [
      "Both `max_new_tokens` (=256) and `max_length`(=180) seem to have been set. `max_new_tokens` will take precedence. Please refer to the documentation for more information. (https://huggingface.co/docs/transformers/main/en/main_classes/text_generation)\n",
      "Both `max_new_tokens` (=256) and `max_length`(=180) seem to have been set. `max_new_tokens` will take precedence. Please refer to the documentation for more information. (https://huggingface.co/docs/transformers/main/en/main_classes/text_generation)\n",
      "Your max_length is set to 180, but your input_length is only 21. Since this is a summarization task, where outputs shorter than the input are typically wanted, you might consider decreasing max_length manually, e.g. summarizer('...', max_length=10)\n",
      "Both `max_new_tokens` (=256) and `max_length`(=180) seem to have been set. `max_new_tokens` will take precedence. Please refer to the documentation for more information. (https://huggingface.co/docs/transformers/main/en/main_classes/text_generation)\n",
      "Both `max_new_tokens` (=256) and `max_length`(=220) seem to have been set. `max_new_tokens` will take precedence. Please refer to the documentation for more information. (https://huggingface.co/docs/transformers/main/en/main_classes/text_generation)\n"
     ]
    },
    {
     "name": "stdout",
     "output_type": "stream",
     "text": [
      "Summary: The article discusses how George Hood set the world record for the longest plank in history, which is 90% mental. The author explains that grit is rooted in biology and BDNF is a protein that helps neurons, cells in the brain, grow, stay healthy, and communicate more effectively. The article emphasizes the importance of mental effort and the need for a plank to increase the levels of the neurotransmitter. They also highlight the study of Daniel to see if the plank relieves pain. They conclude that exercise is not just a theory, but backed by scientific evidence. Thank you for your support.\n",
      "Audio file saved: summary.mp3\n"
     ]
    }
   ],
   "source": [
    "from summarizer import extract_video_id, fetch_transcript, summarize_text, save_audio\n",
    "\n",
    "url = \"https://www.youtube.com/watch?v=rNxC16mlO60&t=62s\"  # Example TED talk\n",
    "vid = extract_video_id(url)\n",
    "print(\"Video ID:\", vid)\n",
    "\n",
    "transcript = fetch_transcript(vid)\n",
    "print(\"Transcript sample:\", transcript[:500])\n",
    "\n",
    "summary = summarize_text(transcript)\n",
    "print(\"Summary:\", summary)\n",
    "\n",
    "mp3_path = save_audio(summary, \"summary.mp3\")\n",
    "print(\"Audio file saved:\", mp3_path)"
   ]
  },
  {
   "cell_type": "code",
   "execution_count": null,
   "id": "ad223226-64b3-41e4-84c5-77e58d6b7496",
   "metadata": {},
   "outputs": [],
   "source": [
    "!streamlit run app_summarizer.py"
   ]
  },
  {
   "cell_type": "code",
   "execution_count": null,
   "id": "e993becb-f2e3-48b0-8892-783ef7491624",
   "metadata": {},
   "outputs": [],
   "source": []
  }
 ],
 "metadata": {
  "kernelspec": {
   "display_name": "Python [conda env:base] *",
   "language": "python",
   "name": "conda-base-py"
  },
  "language_info": {
   "codemirror_mode": {
    "name": "ipython",
    "version": 3
   },
   "file_extension": ".py",
   "mimetype": "text/x-python",
   "name": "python",
   "nbconvert_exporter": "python",
   "pygments_lexer": "ipython3",
   "version": "3.12.7"
  }
 },
 "nbformat": 4,
 "nbformat_minor": 5
}
